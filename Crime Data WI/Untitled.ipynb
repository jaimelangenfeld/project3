{
 "cells": [
  {
   "cell_type": "code",
   "execution_count": 1,
   "id": "b6f48317",
   "metadata": {},
   "outputs": [],
   "source": [
    "import psycopg2\n",
    "import pandas as pd"
   ]
  },
  {
   "cell_type": "code",
   "execution_count": 3,
   "id": "fae2f350",
   "metadata": {},
   "outputs": [],
   "source": [
    "conn = psycopg2.connect(database=\"WiCrime\",\n",
    "                        user=\"postgres\",\n",
    "                        host='localhost',\n",
    "                        password=\"ICe4uam3\",\n",
    "                        port=5432)"
   ]
  },
  {
   "cell_type": "code",
   "execution_count": 5,
   "id": "031e2966",
   "metadata": {},
   "outputs": [],
   "source": [
    "cursor_obj=conn.cursor()\n",
    "cursor_obj.execute(\"CREATE TABLE people (name VARCHAR(30) NOT NULL);\")"
   ]
  },
  {
   "cell_type": "code",
   "execution_count": null,
   "id": "009ccef1-878b-4cc1-ad8b-ec34863a6e5a",
   "metadata": {},
   "outputs": [],
   "source": []
  }
 ],
 "metadata": {
  "kernelspec": {
   "display_name": "Python 3 (ipykernel)",
   "language": "python",
   "name": "python3"
  },
  "language_info": {
   "codemirror_mode": {
    "name": "ipython",
    "version": 3
   },
   "file_extension": ".py",
   "mimetype": "text/x-python",
   "name": "python",
   "nbconvert_exporter": "python",
   "pygments_lexer": "ipython3",
   "version": "3.11.5"
  }
 },
 "nbformat": 4,
 "nbformat_minor": 5
}
